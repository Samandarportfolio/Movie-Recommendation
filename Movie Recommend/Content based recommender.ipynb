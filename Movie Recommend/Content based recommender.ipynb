{
 "cells": [
  {
   "cell_type": "code",
   "execution_count": 10,
   "metadata": {
    "executionInfo": {
     "elapsed": 5,
     "status": "ok",
     "timestamp": 1706135955466,
     "user": {
      "displayName": "Samandar Baxromov",
      "userId": "02556790519195427160"
     },
     "user_tz": -300
    },
    "id": "abe5zHgxrTzO"
   },
   "outputs": [],
   "source": [
    "#Importing nesessary libraries\n",
    "import pandas as pd\n",
    "import numpy as np\n",
    "\n",
    "from sklearn.feature_extraction.text import TfidfVectorizer\n",
    "from sklearn.metrics.pairwise import cosine_similarity"
   ]
  },
  {
   "cell_type": "code",
   "execution_count": 11,
   "metadata": {
    "colab": {
     "base_uri": "https://localhost:8080/",
     "height": 1000
    },
    "executionInfo": {
     "elapsed": 13,
     "status": "ok",
     "timestamp": 1706135956862,
     "user": {
      "displayName": "Samandar Baxromov",
      "userId": "02556790519195427160"
     },
     "user_tz": -300
    },
    "id": "pwmT10EDrvvh",
    "outputId": "f2685b28-f7a8-48cf-dd05-d2ee6d6e4aa1"
   },
   "outputs": [
    {
     "data": {
      "text/html": [
       "<div>\n",
       "<style scoped>\n",
       "    .dataframe tbody tr th:only-of-type {\n",
       "        vertical-align: middle;\n",
       "    }\n",
       "\n",
       "    .dataframe tbody tr th {\n",
       "        vertical-align: top;\n",
       "    }\n",
       "\n",
       "    .dataframe thead th {\n",
       "        text-align: right;\n",
       "    }\n",
       "</style>\n",
       "<table border=\"1\" class=\"dataframe\">\n",
       "  <thead>\n",
       "    <tr style=\"text-align: right;\">\n",
       "      <th></th>\n",
       "      <th>id</th>\n",
       "      <th>title</th>\n",
       "      <th>genre</th>\n",
       "      <th>original_language</th>\n",
       "      <th>overview</th>\n",
       "      <th>popularity</th>\n",
       "      <th>release_date</th>\n",
       "      <th>vote_average</th>\n",
       "      <th>vote_count</th>\n",
       "    </tr>\n",
       "  </thead>\n",
       "  <tbody>\n",
       "    <tr>\n",
       "      <th>0</th>\n",
       "      <td>278</td>\n",
       "      <td>The Shawshank Redemption</td>\n",
       "      <td>Drama,Crime</td>\n",
       "      <td>en</td>\n",
       "      <td>Framed in the 1940s for the double murder of h...</td>\n",
       "      <td>94.075</td>\n",
       "      <td>1994-09-23</td>\n",
       "      <td>8.7</td>\n",
       "      <td>21862</td>\n",
       "    </tr>\n",
       "    <tr>\n",
       "      <th>1</th>\n",
       "      <td>19404</td>\n",
       "      <td>Dilwale Dulhania Le Jayenge</td>\n",
       "      <td>Comedy,Drama,Romance</td>\n",
       "      <td>hi</td>\n",
       "      <td>Raj is a rich, carefree, happy-go-lucky second...</td>\n",
       "      <td>25.408</td>\n",
       "      <td>1995-10-19</td>\n",
       "      <td>8.7</td>\n",
       "      <td>3731</td>\n",
       "    </tr>\n",
       "    <tr>\n",
       "      <th>2</th>\n",
       "      <td>238</td>\n",
       "      <td>The Godfather</td>\n",
       "      <td>Drama,Crime</td>\n",
       "      <td>en</td>\n",
       "      <td>Spanning the years 1945 to 1955, a chronicle o...</td>\n",
       "      <td>90.585</td>\n",
       "      <td>1972-03-14</td>\n",
       "      <td>8.7</td>\n",
       "      <td>16280</td>\n",
       "    </tr>\n",
       "    <tr>\n",
       "      <th>3</th>\n",
       "      <td>424</td>\n",
       "      <td>Schindler's List</td>\n",
       "      <td>Drama,History,War</td>\n",
       "      <td>en</td>\n",
       "      <td>The true story of how businessman Oskar Schind...</td>\n",
       "      <td>44.761</td>\n",
       "      <td>1993-12-15</td>\n",
       "      <td>8.6</td>\n",
       "      <td>12959</td>\n",
       "    </tr>\n",
       "    <tr>\n",
       "      <th>4</th>\n",
       "      <td>240</td>\n",
       "      <td>The Godfather: Part II</td>\n",
       "      <td>Drama,Crime</td>\n",
       "      <td>en</td>\n",
       "      <td>In the continuing saga of the Corleone crime f...</td>\n",
       "      <td>57.749</td>\n",
       "      <td>1974-12-20</td>\n",
       "      <td>8.6</td>\n",
       "      <td>9811</td>\n",
       "    </tr>\n",
       "    <tr>\n",
       "      <th>5</th>\n",
       "      <td>667257</td>\n",
       "      <td>Impossible Things</td>\n",
       "      <td>Family,Drama</td>\n",
       "      <td>es</td>\n",
       "      <td>Matilde is a woman who, after the death of her...</td>\n",
       "      <td>14.358</td>\n",
       "      <td>2021-06-17</td>\n",
       "      <td>8.6</td>\n",
       "      <td>255</td>\n",
       "    </tr>\n",
       "    <tr>\n",
       "      <th>6</th>\n",
       "      <td>129</td>\n",
       "      <td>Spirited Away</td>\n",
       "      <td>Animation,Family,Fantasy</td>\n",
       "      <td>ja</td>\n",
       "      <td>A young girl, Chihiro, becomes trapped in a st...</td>\n",
       "      <td>92.056</td>\n",
       "      <td>2001-07-20</td>\n",
       "      <td>8.5</td>\n",
       "      <td>13093</td>\n",
       "    </tr>\n",
       "    <tr>\n",
       "      <th>7</th>\n",
       "      <td>730154</td>\n",
       "      <td>Your Eyes Tell</td>\n",
       "      <td>Romance,Drama</td>\n",
       "      <td>ja</td>\n",
       "      <td>A tragic accident lead to Kaori's blindness, b...</td>\n",
       "      <td>51.345</td>\n",
       "      <td>2020-10-23</td>\n",
       "      <td>8.5</td>\n",
       "      <td>339</td>\n",
       "    </tr>\n",
       "    <tr>\n",
       "      <th>8</th>\n",
       "      <td>372754</td>\n",
       "      <td>Dou kyu sei – Classmates</td>\n",
       "      <td>Romance,Animation</td>\n",
       "      <td>ja</td>\n",
       "      <td>Rihito Sajo, an honor student with a perfect s...</td>\n",
       "      <td>14.285</td>\n",
       "      <td>2016-02-20</td>\n",
       "      <td>8.5</td>\n",
       "      <td>239</td>\n",
       "    </tr>\n",
       "    <tr>\n",
       "      <th>9</th>\n",
       "      <td>372058</td>\n",
       "      <td>Your Name.</td>\n",
       "      <td>Romance,Animation,Drama</td>\n",
       "      <td>ja</td>\n",
       "      <td>High schoolers Mitsuha and Taki are complete s...</td>\n",
       "      <td>158.270</td>\n",
       "      <td>2016-08-26</td>\n",
       "      <td>8.5</td>\n",
       "      <td>8895</td>\n",
       "    </tr>\n",
       "  </tbody>\n",
       "</table>\n",
       "</div>"
      ],
      "text/plain": [
       "       id                        title                     genre  \\\n",
       "0     278     The Shawshank Redemption               Drama,Crime   \n",
       "1   19404  Dilwale Dulhania Le Jayenge      Comedy,Drama,Romance   \n",
       "2     238                The Godfather               Drama,Crime   \n",
       "3     424             Schindler's List         Drama,History,War   \n",
       "4     240       The Godfather: Part II               Drama,Crime   \n",
       "5  667257            Impossible Things              Family,Drama   \n",
       "6     129                Spirited Away  Animation,Family,Fantasy   \n",
       "7  730154               Your Eyes Tell             Romance,Drama   \n",
       "8  372754     Dou kyu sei – Classmates         Romance,Animation   \n",
       "9  372058                   Your Name.   Romance,Animation,Drama   \n",
       "\n",
       "  original_language                                           overview  \\\n",
       "0                en  Framed in the 1940s for the double murder of h...   \n",
       "1                hi  Raj is a rich, carefree, happy-go-lucky second...   \n",
       "2                en  Spanning the years 1945 to 1955, a chronicle o...   \n",
       "3                en  The true story of how businessman Oskar Schind...   \n",
       "4                en  In the continuing saga of the Corleone crime f...   \n",
       "5                es  Matilde is a woman who, after the death of her...   \n",
       "6                ja  A young girl, Chihiro, becomes trapped in a st...   \n",
       "7                ja  A tragic accident lead to Kaori's blindness, b...   \n",
       "8                ja  Rihito Sajo, an honor student with a perfect s...   \n",
       "9                ja  High schoolers Mitsuha and Taki are complete s...   \n",
       "\n",
       "   popularity release_date  vote_average  vote_count  \n",
       "0      94.075   1994-09-23           8.7       21862  \n",
       "1      25.408   1995-10-19           8.7        3731  \n",
       "2      90.585   1972-03-14           8.7       16280  \n",
       "3      44.761   1993-12-15           8.6       12959  \n",
       "4      57.749   1974-12-20           8.6        9811  \n",
       "5      14.358   2021-06-17           8.6         255  \n",
       "6      92.056   2001-07-20           8.5       13093  \n",
       "7      51.345   2020-10-23           8.5         339  \n",
       "8      14.285   2016-02-20           8.5         239  \n",
       "9     158.270   2016-08-26           8.5        8895  "
      ]
     },
     "execution_count": 11,
     "metadata": {},
     "output_type": "execute_result"
    }
   ],
   "source": [
    "data = pd.read_csv(\"C:/Users/asus/Desktop/Movie Recommend/dataset.csv\")\n",
    "data.head(10)"
   ]
  },
  {
   "cell_type": "code",
   "execution_count": 12,
   "metadata": {
    "colab": {
     "base_uri": "https://localhost:8080/"
    },
    "executionInfo": {
     "elapsed": 5,
     "status": "ok",
     "timestamp": 1706135977831,
     "user": {
      "displayName": "Samandar Baxromov",
      "userId": "02556790519195427160"
     },
     "user_tz": -300
    },
    "id": "j0HDz_mYsQri",
    "outputId": "0e6cfd0d-f065-49fd-ee70-ccbbb4c75748"
   },
   "outputs": [
    {
     "data": {
      "text/plain": [
       "(10000, 9)"
      ]
     },
     "execution_count": 12,
     "metadata": {},
     "output_type": "execute_result"
    }
   ],
   "source": [
    "#Dataset's size\n",
    "data.shape"
   ]
  },
  {
   "cell_type": "markdown",
   "metadata": {
    "id": "luIyLHpetAQO"
   },
   "source": [
    "\n",
    "## Content based recommendation\n",
    "\n"
   ]
  },
  {
   "cell_type": "code",
   "execution_count": 13,
   "metadata": {
    "colab": {
     "base_uri": "https://localhost:8080/"
    },
    "executionInfo": {
     "elapsed": 318,
     "status": "ok",
     "timestamp": 1706135984318,
     "user": {
      "displayName": "Samandar Baxromov",
      "userId": "02556790519195427160"
     },
     "user_tz": -300
    },
    "id": "C30OcIvAsYvG",
    "outputId": "e5f1bc71-efe2-422b-f99e-712d63aa04da"
   },
   "outputs": [
    {
     "name": "stdout",
     "output_type": "stream",
     "text": [
      "<class 'pandas.core.frame.DataFrame'>\n",
      "RangeIndex: 10000 entries, 0 to 9999\n",
      "Data columns (total 9 columns):\n",
      " #   Column             Non-Null Count  Dtype  \n",
      "---  ------             --------------  -----  \n",
      " 0   id                 10000 non-null  int64  \n",
      " 1   title              10000 non-null  object \n",
      " 2   genre              9997 non-null   object \n",
      " 3   original_language  10000 non-null  object \n",
      " 4   overview           9987 non-null   object \n",
      " 5   popularity         10000 non-null  float64\n",
      " 6   release_date       10000 non-null  object \n",
      " 7   vote_average       10000 non-null  float64\n",
      " 8   vote_count         10000 non-null  int64  \n",
      "dtypes: float64(2), int64(2), object(5)\n",
      "memory usage: 703.3+ KB\n"
     ]
    }
   ],
   "source": [
    "data.info()"
   ]
  },
  {
   "cell_type": "code",
   "execution_count": 14,
   "metadata": {
    "executionInfo": {
     "elapsed": 1,
     "status": "ok",
     "timestamp": 1706135984736,
     "user": {
      "displayName": "Samandar Baxromov",
      "userId": "02556790519195427160"
     },
     "user_tz": -300
    },
    "id": "fYqiMrV6tK2K"
   },
   "outputs": [],
   "source": [
    "#Filling missing values on genre and overview columns\n",
    "data['genre'].fillna('[]', inplace=True)\n",
    "data['overview'].fillna('[]', inplace=True)"
   ]
  },
  {
   "cell_type": "code",
   "execution_count": 17,
   "metadata": {
    "colab": {
     "base_uri": "https://localhost:8080/"
    },
    "executionInfo": {
     "elapsed": 4,
     "status": "ok",
     "timestamp": 1706135986013,
     "user": {
      "displayName": "Samandar Baxromov",
      "userId": "02556790519195427160"
     },
     "user_tz": -300
    },
    "id": "Sh4ApmZYtnfW",
    "outputId": "f01f6de4-1c46-455c-df97-0b5ab0e27cee"
   },
   "outputs": [
    {
     "data": {
      "text/plain": [
       "0       Drama,CrimeFramed in the 1940s for the double ...\n",
       "1       Comedy,Drama,RomanceRaj is a rich, carefree, h...\n",
       "2       Drama,CrimeSpanning the years 1945 to 1955, a ...\n",
       "3       Drama,History,WarThe true story of how busines...\n",
       "4       Drama,CrimeIn the continuing saga of the Corle...\n",
       "                              ...                        \n",
       "9995    Action,Adventure,FantasyThe story follows the ...\n",
       "9996    Action,TV Movie,Science Fiction,Comedy,Adventu...\n",
       "9997    Action,Science Fiction,WarDuring World War II,...\n",
       "9998    Adventure,Fantasy,Action,DramaA man named Farm...\n",
       "9999    Thriller,Action,CrimeSeeking justice for his p...\n",
       "Name: description, Length: 10000, dtype: object"
      ]
     },
     "execution_count": 17,
     "metadata": {},
     "output_type": "execute_result"
    }
   ],
   "source": [
    "#Merging genre and overview columns to one column\n",
    "data['description'] = data['genre'] + data['overview']\n",
    "data['description'].fillna(\"\")"
   ]
  },
  {
   "cell_type": "code",
   "execution_count": 18,
   "metadata": {
    "colab": {
     "base_uri": "https://localhost:8080/",
     "height": 484
    },
    "executionInfo": {
     "elapsed": 5,
     "status": "ok",
     "timestamp": 1706135987230,
     "user": {
      "displayName": "Samandar Baxromov",
      "userId": "02556790519195427160"
     },
     "user_tz": -300
    },
    "id": "ePRQqo5IvERK",
    "outputId": "012092f5-e2e5-4ab9-8b1d-027f107d38ec"
   },
   "outputs": [
    {
     "data": {
      "text/html": [
       "<div>\n",
       "<style scoped>\n",
       "    .dataframe tbody tr th:only-of-type {\n",
       "        vertical-align: middle;\n",
       "    }\n",
       "\n",
       "    .dataframe tbody tr th {\n",
       "        vertical-align: top;\n",
       "    }\n",
       "\n",
       "    .dataframe thead th {\n",
       "        text-align: right;\n",
       "    }\n",
       "</style>\n",
       "<table border=\"1\" class=\"dataframe\">\n",
       "  <thead>\n",
       "    <tr style=\"text-align: right;\">\n",
       "      <th></th>\n",
       "      <th>id</th>\n",
       "      <th>title</th>\n",
       "      <th>description</th>\n",
       "    </tr>\n",
       "  </thead>\n",
       "  <tbody>\n",
       "    <tr>\n",
       "      <th>0</th>\n",
       "      <td>278</td>\n",
       "      <td>The Shawshank Redemption</td>\n",
       "      <td>Drama,CrimeFramed in the 1940s for the double ...</td>\n",
       "    </tr>\n",
       "    <tr>\n",
       "      <th>1</th>\n",
       "      <td>19404</td>\n",
       "      <td>Dilwale Dulhania Le Jayenge</td>\n",
       "      <td>Comedy,Drama,RomanceRaj is a rich, carefree, h...</td>\n",
       "    </tr>\n",
       "    <tr>\n",
       "      <th>2</th>\n",
       "      <td>238</td>\n",
       "      <td>The Godfather</td>\n",
       "      <td>Drama,CrimeSpanning the years 1945 to 1955, a ...</td>\n",
       "    </tr>\n",
       "    <tr>\n",
       "      <th>3</th>\n",
       "      <td>424</td>\n",
       "      <td>Schindler's List</td>\n",
       "      <td>Drama,History,WarThe true story of how busines...</td>\n",
       "    </tr>\n",
       "    <tr>\n",
       "      <th>4</th>\n",
       "      <td>240</td>\n",
       "      <td>The Godfather: Part II</td>\n",
       "      <td>Drama,CrimeIn the continuing saga of the Corle...</td>\n",
       "    </tr>\n",
       "    <tr>\n",
       "      <th>5</th>\n",
       "      <td>667257</td>\n",
       "      <td>Impossible Things</td>\n",
       "      <td>Family,DramaMatilde is a woman who, after the ...</td>\n",
       "    </tr>\n",
       "    <tr>\n",
       "      <th>6</th>\n",
       "      <td>129</td>\n",
       "      <td>Spirited Away</td>\n",
       "      <td>Animation,Family,FantasyA young girl, Chihiro,...</td>\n",
       "    </tr>\n",
       "    <tr>\n",
       "      <th>7</th>\n",
       "      <td>730154</td>\n",
       "      <td>Your Eyes Tell</td>\n",
       "      <td>Romance,DramaA tragic accident lead to Kaori's...</td>\n",
       "    </tr>\n",
       "    <tr>\n",
       "      <th>8</th>\n",
       "      <td>372754</td>\n",
       "      <td>Dou kyu sei – Classmates</td>\n",
       "      <td>Romance,AnimationRihito Sajo, an honor student...</td>\n",
       "    </tr>\n",
       "    <tr>\n",
       "      <th>9</th>\n",
       "      <td>372058</td>\n",
       "      <td>Your Name.</td>\n",
       "      <td>Romance,Animation,DramaHigh schoolers Mitsuha ...</td>\n",
       "    </tr>\n",
       "  </tbody>\n",
       "</table>\n",
       "</div>"
      ],
      "text/plain": [
       "       id                        title  \\\n",
       "0     278     The Shawshank Redemption   \n",
       "1   19404  Dilwale Dulhania Le Jayenge   \n",
       "2     238                The Godfather   \n",
       "3     424             Schindler's List   \n",
       "4     240       The Godfather: Part II   \n",
       "5  667257            Impossible Things   \n",
       "6     129                Spirited Away   \n",
       "7  730154               Your Eyes Tell   \n",
       "8  372754     Dou kyu sei – Classmates   \n",
       "9  372058                   Your Name.   \n",
       "\n",
       "                                         description  \n",
       "0  Drama,CrimeFramed in the 1940s for the double ...  \n",
       "1  Comedy,Drama,RomanceRaj is a rich, carefree, h...  \n",
       "2  Drama,CrimeSpanning the years 1945 to 1955, a ...  \n",
       "3  Drama,History,WarThe true story of how busines...  \n",
       "4  Drama,CrimeIn the continuing saga of the Corle...  \n",
       "5  Family,DramaMatilde is a woman who, after the ...  \n",
       "6  Animation,Family,FantasyA young girl, Chihiro,...  \n",
       "7  Romance,DramaA tragic accident lead to Kaori's...  \n",
       "8  Romance,AnimationRihito Sajo, an honor student...  \n",
       "9  Romance,Animation,DramaHigh schoolers Mitsuha ...  "
      ]
     },
     "execution_count": 18,
     "metadata": {},
     "output_type": "execute_result"
    }
   ],
   "source": [
    "new_data = data[['id', 'title', 'description']]\n",
    "new_data.head(10)"
   ]
  },
  {
   "cell_type": "code",
   "execution_count": 19,
   "metadata": {
    "colab": {
     "base_uri": "https://localhost:8080/"
    },
    "executionInfo": {
     "elapsed": 3,
     "status": "ok",
     "timestamp": 1706135988294,
     "user": {
      "displayName": "Samandar Baxromov",
      "userId": "02556790519195427160"
     },
     "user_tz": -300
    },
    "id": "Co6UlbzUv87I",
    "outputId": "b4b251c7-3bf1-4b53-da00-dbf645f6ef78"
   },
   "outputs": [
    {
     "name": "stdout",
     "output_type": "stream",
     "text": [
      "<class 'pandas.core.frame.DataFrame'>\n",
      "RangeIndex: 10000 entries, 0 to 9999\n",
      "Data columns (total 3 columns):\n",
      " #   Column       Non-Null Count  Dtype \n",
      "---  ------       --------------  ----- \n",
      " 0   id           10000 non-null  int64 \n",
      " 1   title        10000 non-null  object\n",
      " 2   description  10000 non-null  object\n",
      "dtypes: int64(1), object(2)\n",
      "memory usage: 234.5+ KB\n"
     ]
    }
   ],
   "source": [
    "new_data.info()"
   ]
  },
  {
   "cell_type": "code",
   "execution_count": 24,
   "metadata": {
    "executionInfo": {
     "elapsed": 1873,
     "status": "ok",
     "timestamp": 1706135991314,
     "user": {
      "displayName": "Samandar Baxromov",
      "userId": "02556790519195427160"
     },
     "user_tz": -300
    },
    "id": "YKHFH4OPwUua"
   },
   "outputs": [],
   "source": [
    "tf = TfidfVectorizer(analyzer='word',ngram_range=(1, 2),min_df=0.00000001, stop_words='english')\n",
    "tfidf_matrix = tf.fit_transform(new_data['description'])"
   ]
  },
  {
   "cell_type": "code",
   "execution_count": 25,
   "metadata": {
    "colab": {
     "base_uri": "https://localhost:8080/"
    },
    "executionInfo": {
     "elapsed": 2487,
     "status": "ok",
     "timestamp": 1706135995655,
     "user": {
      "displayName": "Samandar Baxromov",
      "userId": "02556790519195427160"
     },
     "user_tz": -300
    },
    "id": "RnKlpl2Vx0D8",
    "outputId": "6f109286-8429-40fc-bac1-ae4fc03bcf19"
   },
   "outputs": [
    {
     "data": {
      "text/plain": [
       "array([[1.        , 0.00431058, 0.00284911, ..., 0.01609597, 0.00991134,\n",
       "        0.00532715],\n",
       "       [0.00431058, 1.        , 0.00433858, ..., 0.        , 0.        ,\n",
       "        0.        ],\n",
       "       [0.00284911, 0.00433858, 1.        , ..., 0.00401159, 0.0052884 ,\n",
       "        0.        ],\n",
       "       ...,\n",
       "       [0.01609597, 0.        , 0.00401159, ..., 1.        , 0.00190413,\n",
       "        0.00169654],\n",
       "       [0.00991134, 0.        , 0.0052884 , ..., 0.00190413, 1.        ,\n",
       "        0.00253987],\n",
       "       [0.00532715, 0.        , 0.        , ..., 0.00169654, 0.00253987,\n",
       "        1.        ]])"
      ]
     },
     "execution_count": 25,
     "metadata": {},
     "output_type": "execute_result"
    }
   ],
   "source": [
    "similarity = cosine_similarity(tfidf_matrix)\n",
    "similarity"
   ]
  },
  {
   "cell_type": "code",
   "execution_count": 29,
   "metadata": {
    "colab": {
     "base_uri": "https://localhost:8080/"
    },
    "executionInfo": {
     "elapsed": 9,
     "status": "ok",
     "timestamp": 1706135997824,
     "user": {
      "displayName": "Samandar Baxromov",
      "userId": "02556790519195427160"
     },
     "user_tz": -300
    },
    "id": "jZlbuMcLzHlq",
    "outputId": "f54f6ef1-8496-49f9-9316-f23e28620590"
   },
   "outputs": [
    {
     "name": "stdout",
     "output_type": "stream",
     "text": [
      "(10000, 10000)\n"
     ]
    }
   ],
   "source": [
    "print(similarity.shape)"
   ]
  },
  {
   "cell_type": "code",
   "execution_count": 31,
   "metadata": {
    "colab": {
     "base_uri": "https://localhost:8080/"
    },
    "executionInfo": {
     "elapsed": 4,
     "status": "ok",
     "timestamp": 1706135999050,
     "user": {
      "displayName": "Samandar Baxromov",
      "userId": "02556790519195427160"
     },
     "user_tz": -300
    },
    "id": "VD9TmbAUzMeb",
    "outputId": "c55760be-e6f7-4bfa-83a9-688fbb806b0d"
   },
   "outputs": [
    {
     "name": "stdout",
     "output_type": "stream",
     "text": [
      "2\n"
     ]
    }
   ],
   "source": [
    "print(new_data[new_data['title'] == 'The Godfather'].index[0])"
   ]
  },
  {
   "cell_type": "code",
   "execution_count": 32,
   "metadata": {
    "colab": {
     "base_uri": "https://localhost:8080/"
    },
    "executionInfo": {
     "elapsed": 6,
     "status": "ok",
     "timestamp": 1706136000834,
     "user": {
      "displayName": "Samandar Baxromov",
      "userId": "02556790519195427160"
     },
     "user_tz": -300
    },
    "id": "DLdPOYHnzkEU",
    "outputId": "1f688ce2-d490-4e0d-db04-9e2022730255"
   },
   "outputs": [
    {
     "name": "stdout",
     "output_type": "stream",
     "text": [
      "title\n",
      "The Shawshank Redemption                            0\n",
      "Dilwale Dulhania Le Jayenge                         1\n",
      "The Godfather                                       2\n",
      "Schindler's List                                    3\n",
      "The Godfather: Part II                              4\n",
      "                                                 ... \n",
      "The Last Airbender                               9995\n",
      "Sharknado 3: Oh Hell No!                         9996\n",
      "Captain America                                  9997\n",
      "In the Name of the King: A Dungeon Siege Tale    9998\n",
      "Domino                                           9999\n",
      "Length: 10000, dtype: int64\n"
     ]
    }
   ],
   "source": [
    "new_data = new_data.reset_index()\n",
    "titles = new_data['title']\n",
    "indices = pd.Series(new_data.index, index = new_data['title'])\n",
    "print(indices)"
   ]
  },
  {
   "cell_type": "code",
   "execution_count": 35,
   "metadata": {
    "executionInfo": {
     "elapsed": 3,
     "status": "ok",
     "timestamp": 1706136194581,
     "user": {
      "displayName": "Samandar Baxromov",
      "userId": "02556790519195427160"
     },
     "user_tz": -300
    },
    "id": "1Wud8YaJo65B"
   },
   "outputs": [],
   "source": [
    "def get_recommendations(title):\n",
    "    # Convert the input title to lowercase\n",
    "    title_lower = title.lower()\n",
    "\n",
    "    # Check if the lowercase title exists in the indices dictionary\n",
    "    if title_lower not in indices:\n",
    "        # If not found, check for a partial match\n",
    "        matches = [movie_title for movie_title in indices.keys() if title_lower in movie_title.lower()]\n",
    "\n",
    "        if not matches:\n",
    "            return \"Movie not found. Please check your input.\"\n",
    "\n",
    "        # Use the first partial match found\n",
    "        title_lower = matches[0]\n",
    "\n",
    "    # Get the index for the lowercase title\n",
    "    idx = indices[title_lower]\n",
    "\n",
    "    # Retrieve similarity scores for the lowercase title\n",
    "    sim_scores = list(enumerate(similarity[idx]))\n",
    "\n",
    "    # Sort the similarity scores in descending order\n",
    "    sim_scores = sorted(sim_scores, key=lambda x: x[1], reverse=True)\n",
    "\n",
    "    # Extract the top 30 movie indices\n",
    "    sim_scores = sim_scores[0:31]\n",
    "    movie_indices = [i[0] for i in sim_scores]\n",
    "\n",
    "    # Return the movie titles corresponding to the indices\n",
    "    return titles.iloc[movie_indices]\n"
   ]
  },
  {
   "cell_type": "code",
   "execution_count": 36,
   "metadata": {
    "colab": {
     "base_uri": "https://localhost:8080/"
    },
    "executionInfo": {
     "elapsed": 7,
     "status": "ok",
     "timestamp": 1706136196047,
     "user": {
      "displayName": "Samandar Baxromov",
      "userId": "02556790519195427160"
     },
     "user_tz": -300
    },
    "id": "hEaV9oxJ7UY_",
    "outputId": "4ffadd61-e907-4591-8963-b185f9d90cdf"
   },
   "outputs": [
    {
     "data": {
      "text/plain": [
       "2                                           The Godfather\n",
       "4                                  The Godfather: Part II\n",
       "9362                                           Proud Mary\n",
       "7419                                           Blood Ties\n",
       "1611                              The Godfather: Part III\n",
       "9520                                                Gotti\n",
       "5502                                        Summer of Sam\n",
       "1388    Berserk: The Golden Age Arc II - The Battle fo...\n",
       "7286                                            Show Dogs\n",
       "8987                                    Playing for Keeps\n",
       "1842                                        Loose Cannons\n",
       "3321                                              8 Women\n",
       "547                                               Warrior\n",
       "1428                                          Uncle Frank\n",
       "7360                                The Amityville Horror\n",
       "5331                            The Many Saints of Newark\n",
       "8570                                             3 Ninjas\n",
       "9825                                            Bar Sport\n",
       "6028                                        Run All Night\n",
       "9203                                         Royal Palace\n",
       "5355                                         Halloween II\n",
       "949                                          The Irishman\n",
       "5323                                          Renaissance\n",
       "5361                                                  Joe\n",
       "2977                                       The Connection\n",
       "2307                          Songs from the Second Floor\n",
       "1816                                    Road to Perdition\n",
       "409                                                 Ordet\n",
       "3849                                           Moonstruck\n",
       "8088                                              Thinner\n",
       "194                            Michael Jackson's Thriller\n",
       "Name: title, dtype: object"
      ]
     },
     "execution_count": 36,
     "metadata": {},
     "output_type": "execute_result"
    }
   ],
   "source": [
    "get_recommendations('godfather')"
   ]
  },
  {
   "cell_type": "code",
   "execution_count": 37,
   "metadata": {
    "id": "oXS_TAtS7ZTZ"
   },
   "outputs": [],
   "source": [
    "import pickle"
   ]
  },
  {
   "cell_type": "code",
   "execution_count": 38,
   "metadata": {},
   "outputs": [],
   "source": [
    "pickle.dump(new_data, open('movies.list.pkl', 'wb'))\n",
    "pickle.dump(similarity, open('similarity.pkl', 'wb'))\n",
    "    "
   ]
  },
  {
   "cell_type": "code",
   "execution_count": null,
   "metadata": {},
   "outputs": [],
   "source": []
  }
 ],
 "metadata": {
  "colab": {
   "authorship_tag": "ABX9TyMwDBlKPlxSlzMcfPh5t9rU",
   "provenance": []
  },
  "kernelspec": {
   "display_name": "Python 3 (ipykernel)",
   "language": "python",
   "name": "python3"
  },
  "language_info": {
   "codemirror_mode": {
    "name": "ipython",
    "version": 3
   },
   "file_extension": ".py",
   "mimetype": "text/x-python",
   "name": "python",
   "nbconvert_exporter": "python",
   "pygments_lexer": "ipython3",
   "version": "3.11.5"
  }
 },
 "nbformat": 4,
 "nbformat_minor": 1
}
